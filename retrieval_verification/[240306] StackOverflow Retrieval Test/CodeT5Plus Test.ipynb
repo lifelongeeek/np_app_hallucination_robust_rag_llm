{
 "cells": [
  {
   "cell_type": "code",
   "execution_count": 1,
   "metadata": {},
   "outputs": [],
   "source": [
    "from transformers import AutoModel, AutoTokenizer\n",
    "\n",
    "checkpoint = \"Salesforce/codet5p-110m-embedding\"\n",
    "device = 'cuda'\n",
    "\n",
    "tokenizer = AutoTokenizer.from_pretrained(checkpoint, trust_remote_code=True)\n",
    "model = AutoModel.from_pretrained(checkpoint, trust_remote_code=True).to(device)\n",
    "\n",
    "# gpu oom을 방지하기 위한 cpu 모델 추가\n",
    "cpu_model = AutoModel.from_pretrained(checkpoint, trust_remote_code=True).to('cpu')"
   ]
  },
  {
   "cell_type": "code",
   "execution_count": 2,
   "metadata": {},
   "outputs": [],
   "source": [
    "from datasets import load_dataset\n",
    "\n",
    "dataset = load_dataset('KonradSzafer/stackoverflow_python_preprocessed')\n",
    "\n",
    "# answer list 구성\n",
    "answer_texts = [data['answer'] for data in dataset['train']]"
   ]
  },
  {
   "cell_type": "code",
   "execution_count": 3,
   "metadata": {},
   "outputs": [
    {
     "name": "stderr",
     "output_type": "stream",
     "text": [
      "Token indices sequence length is longer than the specified maximum sequence length for this model (678 > 512). Running this sequence through the model will result in indexing errors\n"
     ]
    }
   ],
   "source": [
    "from torch.utils.data import Dataset, DataLoader\n",
    "\n",
    "\n",
    "class TokenDataset(Dataset):\n",
    "    def __init__(self, answer_texts, tokenizer):\n",
    "        super().__init__()\n",
    "        answer_tokens_ids = [tokenizer.encode(text, return_tensors=\"pt\")[0] for text in answer_texts]\n",
    "        self.answer_tokens_ids = answer_tokens_ids\n",
    "        self.len = len(answer_texts)\n",
    "    \n",
    "    def __len__(self):\n",
    "        return self.len\n",
    "\n",
    "    def __getitem__(self, index):\n",
    "        return self.answer_tokens_ids[index]\n",
    "\n",
    "\n",
    "# 임베딩을 구하기 위한 dataloader 클래스 구성\n",
    "token_dataset = TokenDataset(answer_texts, tokenizer)\n",
    "token_dataloader = DataLoader(token_dataset, batch_size=1, shuffle=False)"
   ]
  },
  {
   "cell_type": "code",
   "execution_count": 4,
   "metadata": {},
   "outputs": [
    {
     "name": "stderr",
     "output_type": "stream",
     "text": [
      "100%|██████████| 3296/3296 [02:15<00:00, 24.36it/s] \n"
     ]
    }
   ],
   "source": [
    "from tqdm import tqdm\n",
    "import torch\n",
    "import pickle\n",
    "\n",
    "answer_embeddings = []\n",
    "\n",
    "for batch in tqdm(token_dataloader):\n",
    "    if len(batch[0]) <= 8000:\n",
    "        with torch.no_grad():\n",
    "            embedding = model(batch.to(device))[0].detach().cpu()\n",
    "    else:\n",
    "        with torch.no_grad():\n",
    "            embedding = cpu_model(batch)[0]\n",
    "    answer_embeddings.append(embedding)\n",
    "\n",
    "\n",
    "with open('answer_embeddings.pkl', 'wb') as f:\n",
    "    pickle.dump(answer_embeddings, f)"
   ]
  },
  {
   "cell_type": "code",
   "execution_count": 4,
   "metadata": {},
   "outputs": [],
   "source": [
    "from tqdm import tqdm\n",
    "import torch\n",
    "import pickle\n",
    "\n",
    "with open('answer_embeddings.pkl', 'rb') as f:\n",
    "    answer_embeddings = pickle.load(f)"
   ]
  },
  {
   "cell_type": "code",
   "execution_count": 5,
   "metadata": {},
   "outputs": [
    {
     "data": {
      "text/plain": [
       "torch.Size([3296, 256])"
      ]
     },
     "execution_count": 5,
     "metadata": {},
     "output_type": "execute_result"
    }
   ],
   "source": [
    "# 정규화 한 임베딩 텐서 구성\n",
    "norm_answer_embeddings = [torch.nn.functional.normalize(answer, p=2, dim=-1) for answer in answer_embeddings]\n",
    "answer_embeddings_concat = torch.stack(norm_answer_embeddings).detach().cpu()\n",
    "answer_embeddings_concat.shape"
   ]
  },
  {
   "cell_type": "code",
   "execution_count": 6,
   "metadata": {},
   "outputs": [],
   "source": [
    "# 중복된 query를 방지하기 위해 unique한 query list 및 query 별 answer list 구성\n",
    "# example\n",
    "# unique_questions = [query_1, query_2, query_3, ...]\n",
    "# all_answers = [[answer_1_for_query_1, answer_2_for_query_2, ...], [answer_1_for_query_2, answer_2_for_query_2, ...], ...]\n",
    "\n",
    "prev_question = ''\n",
    "prev_answers = []\n",
    "unique_questions = []\n",
    "unique_answers = []\n",
    "all_answers = []\n",
    "\n",
    "for data in dataset['train']:\n",
    "    title = data['title']\n",
    "    question = data['question']\n",
    "    answer = data['answer']\n",
    "    if prev_question != question:\n",
    "        if prev_answers:\n",
    "            all_answers.append(prev_answers)\n",
    "            prev_answers = []\n",
    "        prev_question = question\n",
    "        unique_questions.append(title + '\\n' + question)\n",
    "        unique_answers.append(answer)\n",
    "        prev_answers.append(answer)\n",
    "    else:\n",
    "        prev_answers.append(answer)\n",
    "all_answers.append(prev_answers)"
   ]
  },
  {
   "cell_type": "code",
   "execution_count": 13,
   "metadata": {},
   "outputs": [],
   "source": [
    "def get_relevant_documents(query, topk=5):\n",
    "    question_tokens_ids = tokenizer.encode(query, return_tensors=\"pt\")\n",
    "    if len(question_tokens_ids[0]) <= 5000:\n",
    "        question_embedding = model(question_tokens_ids.to(device))[0]\n",
    "    else:\n",
    "        question_embedding = cpu_model(question_tokens_ids)[0]\n",
    "    \n",
    "    question_tokens_ids.detach().cpu()\n",
    "    question_embedding.detach().cpu()\n",
    "    norm_question_embedding = torch.nn.functional.normalize(question_embedding, p=2, dim=-1)\n",
    "    similarity = torch.matmul(answer_embeddings_concat.to('cpu'), norm_question_embedding.T.to('cpu'))\n",
    "    argsorted = list(torch.argsort(similarity, descending=True)[:topk])\n",
    "    return [answer_texts[idx] for idx in argsorted]"
   ]
  },
  {
   "cell_type": "code",
   "execution_count": 14,
   "metadata": {},
   "outputs": [
    {
     "name": "stderr",
     "output_type": "stream",
     "text": [
      "0it [00:00, ?it/s]C:\\Users\\user\\AppData\\Local\\Temp\\ipykernel_25472\\485727651.py:11: UserWarning: The use of `x.T` on tensors of dimension other than 2 to reverse their shape is deprecated and it will throw an error in a future release. Consider `x.mT` to transpose batches of matrices or `x.permute(*torch.arange(x.ndim - 1, -1, -1))` to reverse the dimensions of a tensor. (Triggered internally at C:\\actions-runner\\_work\\pytorch\\pytorch\\builder\\windows\\pytorch\\aten\\src\\ATen\\native\\TensorShape.cpp:3641.)\n",
      "  similarity = torch.matmul(answer_embeddings_concat.to('cpu'), norm_question_embedding.T.to('cpu'))\n",
      "962it [02:18,  6.97it/s]\n"
     ]
    }
   ],
   "source": [
    "# GT answer 중 하나라도 retrieve가 되면 true로 판별\n",
    "\n",
    "is_retrieved = []\n",
    "for query, answers in tqdm(zip(unique_questions, all_answers)):\n",
    "    retrived_documents = get_relevant_documents(query)\n",
    "    retrieved = False\n",
    "    for answer in answers:\n",
    "        if not retrieved:\n",
    "            for doc in retrived_documents:\n",
    "                if answer == doc:\n",
    "                    retrieved = True\n",
    "                    break\n",
    "    is_retrieved.append(retrieved)"
   ]
  },
  {
   "cell_type": "code",
   "execution_count": 17,
   "metadata": {},
   "outputs": [
    {
     "name": "stdout",
     "output_type": "stream",
     "text": [
      "True Ratio:76.30%\n"
     ]
    }
   ],
   "source": [
    "true_ratio = sum([1 for res in is_retrieved if res ])/len(is_retrieved)\n",
    "print(f'True Ratio:{true_ratio*100:0.2f}%')"
   ]
  }
 ],
 "metadata": {
  "kernelspec": {
   "display_name": "base",
   "language": "python",
   "name": "python3"
  },
  "language_info": {
   "codemirror_mode": {
    "name": "ipython",
    "version": 3
   },
   "file_extension": ".py",
   "mimetype": "text/x-python",
   "name": "python",
   "nbconvert_exporter": "python",
   "pygments_lexer": "ipython3",
   "version": "3.8.18"
  }
 },
 "nbformat": 4,
 "nbformat_minor": 2
}
