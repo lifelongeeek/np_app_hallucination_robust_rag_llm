{
 "cells": [
  {
   "cell_type": "code",
   "execution_count": 1,
   "metadata": {},
   "outputs": [],
   "source": [
    "import torch\n",
    "from unixcoder import UniXcoder\n",
    "\n",
    "device = torch.device(\"cuda\" if torch.cuda.is_available() else \"cpu\")\n",
    "model = UniXcoder(\"microsoft/unixcoder-base\").to(device).eval()"
   ]
  },
  {
   "cell_type": "code",
   "execution_count": 2,
   "metadata": {},
   "outputs": [],
   "source": [
    "from datasets import load_dataset\n",
    "\n",
    "dataset = load_dataset('KonradSzafer/stackoverflow_python_preprocessed')\n",
    "\n",
    "# answer list 구성\n",
    "answer_texts = [data['answer'] for data in dataset['train']]\n",
    "answer_token_ids = model.tokenize(answer_texts)"
   ]
  },
  {
   "cell_type": "code",
   "execution_count": 5,
   "metadata": {},
   "outputs": [],
   "source": [
    "from torch.utils.data import Dataset, DataLoader\n",
    "\n",
    "class TokenDataset(Dataset):\n",
    "    def __init__(self, tokens_ids):\n",
    "        super().__init__()\n",
    "        self.tokens_ids = tokens_ids\n",
    "        self.len = len(tokens_ids)\n",
    "    \n",
    "    def __len__(self):\n",
    "        return self.len\n",
    "\n",
    "    def __getitem__(self, index):\n",
    "        return torch.Tensor(self.tokens_ids[index])\n",
    "    \n",
    "token_dataset = TokenDataset(answer_token_ids)\n",
    "token_dataloader = DataLoader(token_dataset, batch_size=1, shuffle=False)"
   ]
  },
  {
   "cell_type": "code",
   "execution_count": 13,
   "metadata": {},
   "outputs": [
    {
     "name": "stderr",
     "output_type": "stream",
     "text": [
      "100%|██████████| 3296/3296 [00:39<00:00, 82.75it/s] \n"
     ]
    }
   ],
   "source": [
    "from tqdm import tqdm\n",
    "\n",
    "token_embeddings = []\n",
    "\n",
    "for batch in tqdm(token_dataloader):\n",
    "    inputs = batch.to(device).long()\n",
    "    _, token_embedding = model(inputs)\n",
    "\n",
    "    token_embeddings.append(token_embedding.detach().cpu())"
   ]
  },
  {
   "cell_type": "code",
   "execution_count": 14,
   "metadata": {},
   "outputs": [
    {
     "data": {
      "text/plain": [
       "torch.Size([3296, 768])"
      ]
     },
     "execution_count": 14,
     "metadata": {},
     "output_type": "execute_result"
    }
   ],
   "source": [
    "# 정규화 한 임베딩 텐서 구성\n",
    "norm_answer_embeddings = [torch.nn.functional.normalize(answer, p=2, dim=-1) for answer in token_embeddings]\n",
    "answer_embeddings_concat = torch.stack(norm_answer_embeddings).detach().cpu()\n",
    "answer_embeddings_concat = torch.squeeze(answer_embeddings_concat)\n",
    "answer_embeddings_concat.shape"
   ]
  },
  {
   "cell_type": "code",
   "execution_count": 15,
   "metadata": {},
   "outputs": [],
   "source": [
    "# 중복된 query를 방지하기 위해 unique한 query list 및 query 별 answer list 구성\n",
    "# example\n",
    "# unique_questions = [query_1, query_2, query_3, ...]\n",
    "# all_answers = [[answer_1_for_query_1, answer_2_for_query_2, ...], [answer_1_for_query_2, answer_2_for_query_2, ...], ...]\n",
    "\n",
    "prev_question = ''\n",
    "prev_answers = []\n",
    "unique_questions = []\n",
    "unique_answers = []\n",
    "all_answers = []\n",
    "\n",
    "for data in dataset['train']:\n",
    "    title = data['title']\n",
    "    question = data['question']\n",
    "    answer = data['answer']\n",
    "    if prev_question != question:\n",
    "        if prev_answers:\n",
    "            all_answers.append(prev_answers)\n",
    "            prev_answers = []\n",
    "        prev_question = question\n",
    "        unique_questions.append(title + '\\n' + question)\n",
    "        unique_answers.append(answer)\n",
    "        prev_answers.append(answer)\n",
    "    else:\n",
    "        prev_answers.append(answer)\n",
    "all_answers.append(prev_answers)"
   ]
  },
  {
   "cell_type": "code",
   "execution_count": 46,
   "metadata": {},
   "outputs": [],
   "source": [
    "def get_relevant_documents(query, topk=5):\n",
    "    question_tokens_ids = torch.Tensor(model.tokenize([query])).to(device).long()\n",
    "    _, question_embedding = model(question_tokens_ids)\n",
    "    # if len(question_tokens_ids[0]) <= 5000:\n",
    "    #     question_embedding = model(question_tokens_ids.to(device))[0]\n",
    "    # else:\n",
    "    #     question_embedding = cpu_model(question_tokens_ids)[0]\n",
    "    \n",
    "    question_tokens_ids.detach().cpu()\n",
    "    question_embedding.detach().cpu()\n",
    "    norm_question_embedding = torch.nn.functional.normalize(question_embedding[0], p=2, dim=-1)\n",
    "    similarity = torch.matmul(answer_embeddings_concat.to('cpu'), norm_question_embedding.T.to('cpu'))\n",
    "    argsorted = list(torch.argsort(similarity, descending=True)[:topk])\n",
    "    return [answer_texts[idx] for idx in argsorted]"
   ]
  },
  {
   "cell_type": "code",
   "execution_count": 49,
   "metadata": {},
   "outputs": [
    {
     "name": "stderr",
     "output_type": "stream",
     "text": [
      "962it [00:13, 71.92it/s]\n"
     ]
    }
   ],
   "source": [
    "# GT answer 중 하나라도 retrieve가 되면 true로 판별\n",
    "\n",
    "is_retrieved = []\n",
    "for query, answers in tqdm(zip(unique_questions, all_answers)):\n",
    "    retrived_documents = get_relevant_documents(query)\n",
    "    retrieved = False\n",
    "    for answer in answers:\n",
    "        if not retrieved:\n",
    "            for doc in retrived_documents:\n",
    "                if answer == doc:\n",
    "                    retrieved = True\n",
    "                    break\n",
    "    is_retrieved.append(retrieved)"
   ]
  },
  {
   "cell_type": "code",
   "execution_count": 51,
   "metadata": {},
   "outputs": [
    {
     "name": "stdout",
     "output_type": "stream",
     "text": [
      "True Ratio:59.88%\n"
     ]
    }
   ],
   "source": [
    "true_ratio = sum([1 for res in is_retrieved if res ])/len(is_retrieved)\n",
    "print(f'True Ratio:{true_ratio*100:0.2f}%')"
   ]
  }
 ],
 "metadata": {
  "kernelspec": {
   "display_name": "nota-env",
   "language": "python",
   "name": "python3"
  },
  "language_info": {
   "codemirror_mode": {
    "name": "ipython",
    "version": 3
   },
   "file_extension": ".py",
   "mimetype": "text/x-python",
   "name": "python",
   "nbconvert_exporter": "python",
   "pygments_lexer": "ipython3",
   "version": "3.8.18"
  }
 },
 "nbformat": 4,
 "nbformat_minor": 2
}
