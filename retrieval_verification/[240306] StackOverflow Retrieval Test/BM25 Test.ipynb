{
 "cells": [
  {
   "cell_type": "code",
   "execution_count": 3,
   "metadata": {},
   "outputs": [],
   "source": [
    "from rank_bm25 import BM25Plus\n",
    "from transformers import AutoTokenizer\n",
    "from typing import List\n",
    "\n",
    "\n",
    "class BM25PlusRetriever:\n",
    "    def __init__(\n",
    "        self,\n",
    "        context,\n",
    "        model_name_or_path = \"Salesforce/codet5p-110m-embedding\",\n",
    "    ) -> None:\n",
    "        self.tokenizer = AutoTokenizer.from_pretrained(model_name_or_path)\n",
    "        self.context = context\n",
    "\n",
    "        tokenized_contexts = [\n",
    "            self.tokenizer(doc)[\"input_ids\"][1:-1] for doc in self.context\n",
    "        ]\n",
    "        self.bm25plus = BM25Plus(tokenized_contexts)\n",
    "\n",
    "    def retrieve(\n",
    "        self,\n",
    "        query,\n",
    "        topk = 5,\n",
    "    ) -> List:\n",
    "\n",
    "        tokenized_query = self.tokenizer(query)[\"input_ids\"][1:-1]\n",
    "\n",
    "        scores = [\n",
    "            (val, idx)\n",
    "            for idx, val in enumerate(self.bm25plus.get_scores(tokenized_query))\n",
    "        ]\n",
    "\n",
    "        scores.sort(reverse=True)\n",
    "        scores = scores[:topk]\n",
    "\n",
    "        doc_indices = [idx for _, idx in scores]\n",
    "\n",
    "        return [self.context[doc_indices[i]] for i in range(topk)]"
   ]
  },
  {
   "cell_type": "code",
   "execution_count": 4,
   "metadata": {},
   "outputs": [],
   "source": [
    "from datasets import load_dataset\n",
    "\n",
    "dataset = load_dataset('KonradSzafer/stackoverflow_python_preprocessed')\n",
    "\n",
    "# answer list 구성\n",
    "answer_texts = [data['answer'] for data in dataset['train']]"
   ]
  },
  {
   "cell_type": "code",
   "execution_count": 5,
   "metadata": {},
   "outputs": [
    {
     "name": "stderr",
     "output_type": "stream",
     "text": [
      "Token indices sequence length is longer than the specified maximum sequence length for this model (678 > 512). Running this sequence through the model will result in indexing errors\n"
     ]
    }
   ],
   "source": [
    "bm25_retrieval = BM25PlusRetriever(answer_texts)"
   ]
  },
  {
   "cell_type": "code",
   "execution_count": 6,
   "metadata": {},
   "outputs": [],
   "source": [
    "# 중복된 query를 방지하기 위해 unique한 query list 및 query 별 answer list 구성\n",
    "# example\n",
    "# unique_questions = [query_1, query_2, query_3, ...]\n",
    "# all_answers = [[answer_1_for_query_1, answer_2_for_query_2, ...], [answer_1_for_query_2, answer_2_for_query_2, ...], ...]\n",
    "\n",
    "prev_question = ''\n",
    "prev_answers = []\n",
    "unique_questions = []\n",
    "unique_answers = []\n",
    "all_answers = []\n",
    "\n",
    "for data in dataset['train']:\n",
    "    title = data['title']\n",
    "    question = data['question']\n",
    "    answer = data['answer']\n",
    "    if prev_question != question:\n",
    "        if prev_answers:\n",
    "            all_answers.append(prev_answers)\n",
    "            prev_answers = []\n",
    "        prev_question = question\n",
    "        unique_questions.append(title + '\\n' + question)\n",
    "        unique_answers.append(answer)\n",
    "        prev_answers.append(answer)\n",
    "    else:\n",
    "        prev_answers.append(answer)\n",
    "all_answers.append(prev_answers)"
   ]
  },
  {
   "cell_type": "code",
   "execution_count": 8,
   "metadata": {},
   "outputs": [
    {
     "name": "stderr",
     "output_type": "stream",
     "text": [
      "962it [01:12, 13.35it/s]\n"
     ]
    }
   ],
   "source": [
    "# GT answer 중 하나라도 retrieve가 되면 true로 판별\n",
    "from tqdm import tqdm\n",
    "\n",
    "is_retrieved = []\n",
    "for query, answers in tqdm(zip(unique_questions, all_answers)):\n",
    "    retrived_documents = bm25_retrieval.retrieve(query)\n",
    "    retrieved = False\n",
    "    for answer in answers:\n",
    "        if not retrieved:\n",
    "            for doc in retrived_documents:\n",
    "                if answer == doc:\n",
    "                    retrieved = True\n",
    "                    break\n",
    "    is_retrieved.append(retrieved)"
   ]
  },
  {
   "cell_type": "code",
   "execution_count": 9,
   "metadata": {},
   "outputs": [
    {
     "name": "stdout",
     "output_type": "stream",
     "text": [
      "True Ratio:63.10%\n"
     ]
    }
   ],
   "source": [
    "true_ratio = sum([1 for res in is_retrieved if res ])/len(is_retrieved)\n",
    "print(f'True Ratio:{true_ratio*100:0.2f}%')"
   ]
  }
 ],
 "metadata": {
  "kernelspec": {
   "display_name": "nota-env",
   "language": "python",
   "name": "python3"
  },
  "language_info": {
   "codemirror_mode": {
    "name": "ipython",
    "version": 3
   },
   "file_extension": ".py",
   "mimetype": "text/x-python",
   "name": "python",
   "nbconvert_exporter": "python",
   "pygments_lexer": "ipython3",
   "version": "3.8.18"
  }
 },
 "nbformat": 4,
 "nbformat_minor": 2
}
