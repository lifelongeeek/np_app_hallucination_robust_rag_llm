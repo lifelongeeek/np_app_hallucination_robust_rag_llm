{
 "cells": [
  {
   "cell_type": "code",
   "execution_count": 1,
   "metadata": {},
   "outputs": [],
   "source": [
    "from datasets import load_dataset"
   ]
  },
  {
   "cell_type": "code",
   "execution_count": 2,
   "metadata": {},
   "outputs": [
    {
     "name": "stderr",
     "output_type": "stream",
     "text": [
      "Found cached dataset json (/Users/jykim/.cache/huggingface/datasets/json/default-103041a79a0e252e/0.0.0/e347ab1c932092252e717ff3f949105a4dd28b27e842dd53157d2f72e276c2e4)\n",
      "Found cached dataset json (/Users/jykim/.cache/huggingface/datasets/json/default-f80a670759be29ca/0.0.0/e347ab1c932092252e717ff3f949105a4dd28b27e842dd53157d2f72e276c2e4)\n"
     ]
    }
   ],
   "source": [
    "data = load_dataset('json', data_dir='./apicoder/private-eval/data/real_torchdata_eval_v3_api_5.jsonl', split='train')\n",
    "comments=load_dataset('json', data_dir='./apicoder/APIRetriever/data/inference/torchdata_comment.jsonl', split='train')"
   ]
  },
  {
   "cell_type": "code",
   "execution_count": 3,
   "metadata": {},
   "outputs": [],
   "source": [
    "gold_api_raw_test = '''1400008\n",
    "1400014\n",
    "1400051\n",
    "1400012\n",
    "1400023\n",
    "1400035\n",
    "1400039\n",
    "1400050\n",
    "1400060\n",
    "1400000\n",
    "1400002\n",
    "1400025\n",
    "1400028\n",
    "1400022\n",
    "1400040\n",
    "1400021\n",
    "1400027\n",
    "1400049\n",
    "1400001\n",
    "1400028, 1400004\n",
    "1400028, 1400004, 1400040\n",
    "1400001, 1400040\n",
    "1400051, 1400008\n",
    "1400006, 1400008\n",
    "1400035\n",
    "1400035\n",
    "1400035\n",
    "1400039, 1400008\n",
    "1400039, 1400008\n",
    "1400039, 1400008\n",
    "1400025, 1400021\n",
    "1400005\n",
    "1400005, 1400021\n",
    "1400012\n",
    "1400050\n",
    "1400060\n",
    "1400000, 1400027\n",
    "1400000, 1400027, 1400006\n",
    "1400006, 1400030\n",
    "1400006, 1400030, 1400023\n",
    "1400006, 1400014\n",
    "1400022\n",
    "1400028, 1400003\n",
    "1400006\n",
    "1400042\n",
    "1400005\n",
    "1400059\n",
    "1400056\n",
    "1400006, 1400040\n",
    "1400025, 1400027'''"
   ]
  },
  {
   "cell_type": "code",
   "execution_count": 4,
   "metadata": {},
   "outputs": [],
   "source": [
    "gold_api_text_id_list = list(map(lambda x:(list(map(int, x.split(',')))), gold_api_raw_test.split('\\n')))"
   ]
  },
  {
   "cell_type": "code",
   "execution_count": 5,
   "metadata": {},
   "outputs": [],
   "source": [
    "api_topk_raw_text = '''2\n",
    "1\n",
    "none\n",
    "2\n",
    "1\n",
    "4\n",
    "4\n",
    "1\n",
    "2\n",
    "1\n",
    "2\n",
    "1\n",
    "1\n",
    "1\n",
    "1\n",
    "1\n",
    "1\n",
    "2\n",
    "1\n",
    "1, none\n",
    "2, none, 1\n",
    "1, 4\n",
    "5, none\n",
    "1, none\n",
    "1\n",
    "1\n",
    "1\n",
    "1, none\n",
    "1, none\n",
    "2, none\n",
    "1, none\n",
    "1\n",
    "1, 2\n",
    "1\n",
    "1\n",
    "3\n",
    "1, none\n",
    "1, none, none\n",
    "1, 5\n",
    "1, none, 5\n",
    "none, none\n",
    "2\n",
    "1, none\n",
    "none\n",
    "3\n",
    "1\n",
    "1\n",
    "1\n",
    "5, none\n",
    "1, 2'''\n",
    "api_topk_raw_text = api_topk_raw_text.replace('none', '-1')"
   ]
  },
  {
   "cell_type": "code",
   "execution_count": 6,
   "metadata": {},
   "outputs": [],
   "source": [
    "api_topk_list = list(map(lambda x:(list(map(int, x.split(',')))), api_topk_raw_text.split('\\n')))"
   ]
  },
  {
   "cell_type": "code",
   "execution_count": 7,
   "metadata": {},
   "outputs": [
    {
     "name": "stderr",
     "output_type": "stream",
     "text": [
      "Found cached dataset json (/Users/jykim/.cache/huggingface/datasets/json/default-a1ac086789bd56ce/0.0.0/e347ab1c932092252e717ff3f949105a4dd28b27e842dd53157d2f72e276c2e4)\n"
     ]
    }
   ],
   "source": [
    "torchdata_api_dataset = load_dataset('json', data_dir='/Users/jykim/Desktop/PyCodeGPT-main/apicoder/APIRetriever/data/inference/torchdata_api.jsonl', split='train')"
   ]
  },
  {
   "cell_type": "code",
   "execution_count": 8,
   "metadata": {},
   "outputs": [],
   "source": [
    "torchdata_api_dict = {}\n",
    "for api_data in torchdata_api_dataset:\n",
    "    text_id = api_data['text_id']\n",
    "    text = api_data['text']\n",
    "    torchdata_api_dict[text_id] = text"
   ]
  },
  {
   "cell_type": "code",
   "execution_count": 9,
   "metadata": {},
   "outputs": [],
   "source": [
    "gold_API_text_list = [[torchdata_api_dict[idx] for idx in text_ids] for text_ids in gold_api_text_id_list]"
   ]
  },
  {
   "cell_type": "code",
   "execution_count": 12,
   "metadata": {},
   "outputs": [],
   "source": [
    "data_dict = {}\n",
    "for data_idx in range(len(data)):\n",
    "    task_id = data[data_idx]['task_id']\n",
    "    text = data[data_idx]['prompt']\n",
    "    answer_codes = data[data_idx]['canonical_solution']\n",
    "    test_code = data[data_idx]['test']\n",
    "    splits = list(map(lambda x:x.strip(), text.split('#')))\n",
    "\n",
    "    apis = splits[2:7]\n",
    "    api_dict = {\n",
    "        f'API_{idx+1}':val for idx, val in enumerate(apis)\n",
    "    }\n",
    "\n",
    "    under_text = text[text.find('[end]')+5:].strip()\n",
    "    query = comments[data_idx]['text']\n",
    "    comment = '# ' + query\n",
    "    code_prefix = under_text.replace(comment, '')\n",
    "\n",
    "\n",
    "    cur_data = {\n",
    "        'original_query': query,\n",
    "        'retrieved_APIs': api_dict,\n",
    "        'code_prefix': code_prefix,\n",
    "        'code_completion': answer_codes,\n",
    "        'test': test_code,\n",
    "        'gold_API_text_ids':gold_api_text_id_list[data_idx],\n",
    "        'gold_API_texts': gold_API_text_list[data_idx],\n",
    "        'API_topk': api_topk_list[data_idx]\n",
    "    }\n",
    "    data_dict[task_id] = cur_data"
   ]
  },
  {
   "cell_type": "code",
   "execution_count": null,
   "metadata": {},
   "outputs": [],
   "source": [
    "import json\n",
    "with open('TorchDataEval_modified2.json', 'w') as f:\n",
    "    json.dump(data_dict, f)"
   ]
  },
  {
   "cell_type": "code",
   "execution_count": 13,
   "metadata": {},
   "outputs": [
    {
     "data": {
      "text/plain": [
       "{'original_query': 'How to augument the datapipe by repeating it six times.',\n",
       " 'retrieved_APIs': {'API_1': 'flatmap(*args, **kwds): Applies a function over each item from the source DataPipe, then flattens the outputs to a single, unnested IterDataPipe.',\n",
       "  'API_2': 'cycle(*args, **kwds): Cycles the specified input in perpetuity by default, or for the specified number of times.',\n",
       "  'API_3': 'mux(*datapipes): Yields one element at a time from each of the input Iterable DataPipes.',\n",
       "  'API_4': 'header(source_datapipe: IterDataPipe[torchdata.datapipes.iter.util.header.T_co], limit: int = 10): Yields elements from the source DataPipe from the start, up to the specfied limit.',\n",
       "  'API_5': 'concat(*args, **kwds): Concatenates multiple Iterable DataPipes.'},\n",
       " 'code_prefix': 'from torchdata.datapipes.iter import IterableWrapper\\ndatapipe = IterableWrapper([1,2,3])\\n\\nnew_datapipe =',\n",
       " 'code_completion': [' Cycler(datapipe, 6)', ' datapipe.cycle(6)'],\n",
       " 'test': \"\\n\\nMETADATA = {\\n    'author': 'msra-v-dazan',\\n    'dataset': 'test',\\n    'type': 'Cycler'\\n}\\n\\n\\ndef check():\\n    assert list(new_datapipe) == [1, 2, 3, 1, 2, 3, 1, 2, 3, 1, 2, 3, 1, 2, 3, 1, 2, 3]\\n\\n\",\n",
       " 'gold_API_text_ids': [1400008],\n",
       " 'gold_API_texts': ['cycle(*args, **kwds): Cycles the specified input in perpetuity by default, or for the specified number of times.'],\n",
       " 'API_topk': [2]}"
      ]
     },
     "execution_count": 13,
     "metadata": {},
     "output_type": "execute_result"
    }
   ],
   "source": [
    "data_dict['TorchDataEval/0']"
   ]
  }
 ],
 "metadata": {
  "kernelspec": {
   "display_name": "rag-env",
   "language": "python",
   "name": "python3"
  },
  "language_info": {
   "codemirror_mode": {
    "name": "ipython",
    "version": 3
   },
   "file_extension": ".py",
   "mimetype": "text/x-python",
   "name": "python",
   "nbconvert_exporter": "python",
   "pygments_lexer": "ipython3",
   "version": "3.8.18"
  }
 },
 "nbformat": 4,
 "nbformat_minor": 2
}
